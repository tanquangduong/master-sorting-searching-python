{
 "cells": [
  {
   "cell_type": "markdown",
   "id": "2234edaf",
   "metadata": {},
   "source": [
    "# Binary search \n",
    "## The worst case: Big O(log(N))"
   ]
  },
  {
   "cell_type": "code",
   "execution_count": 8,
   "id": "4bbc0e2c",
   "metadata": {},
   "outputs": [],
   "source": [
    "def BubbleSort(list):\n",
    "    # Excahnge the elements to arrange in order\n",
    "    lastElementIndex = len(list)-1\n",
    "#     iter = 0\n",
    "    for passNo in range(lastElementIndex,0,-1):\n",
    "#         print(\"PassNo:\", passNo)\n",
    "        for idx in range(passNo):\n",
    "            if list[idx]>list[idx+1]:\n",
    "                list[idx],list[idx+1]=list[idx+1],list[idx]\n",
    "#             iter += 1\n",
    "#             print(iter, list)\n",
    "    return list"
   ]
  },
  {
   "cell_type": "code",
   "execution_count": 9,
   "id": "e3ac0147",
   "metadata": {},
   "outputs": [],
   "source": [
    "def BinarySearch(list, item):\n",
    "    first = 0\n",
    "    last = len(list)-1\n",
    "    found = False\n",
    "\n",
    "    while first<=last and not found:\n",
    "        midpoint = (first + last)//2\n",
    "        if list[midpoint] == item:\n",
    "            found = True\n",
    "        else:\n",
    "            if item < list[midpoint]:\n",
    "                last = midpoint-1\n",
    "            else:\n",
    "                first = midpoint+1\n",
    "    return found"
   ]
  },
  {
   "cell_type": "markdown",
   "id": "6e1a7ef6",
   "metadata": {},
   "source": [
    "# Test binary search"
   ]
  },
  {
   "cell_type": "code",
   "execution_count": 19,
   "id": "1891e2d4",
   "metadata": {},
   "outputs": [
    {
     "name": "stdout",
     "output_type": "stream",
     "text": [
      "Initial list:  [11, 35, 14, 19, 82, 65, 99]\n",
      "Sorted list :  [11, 14, 19, 35, 65, 82, 99]\n",
      "True\n",
      "False\n"
     ]
    }
   ],
   "source": [
    "myList = [11, 35, 14, 19, 82, 65, 99]\n",
    "print(\"Initial list: \", myList)\n",
    "BubbleSort(myList)\n",
    "print(\"Sorted list : \",myList)\n",
    "print(BinarySearch(myList, 35))\n",
    "print(BinarySearch(myList, 90))"
   ]
  },
  {
   "cell_type": "code",
   "execution_count": null,
   "id": "32ab1b05",
   "metadata": {},
   "outputs": [],
   "source": []
  }
 ],
 "metadata": {
  "kernelspec": {
   "display_name": "Python 3 (ipykernel)",
   "language": "python",
   "name": "python3"
  },
  "language_info": {
   "codemirror_mode": {
    "name": "ipython",
    "version": 3
   },
   "file_extension": ".py",
   "mimetype": "text/x-python",
   "name": "python",
   "nbconvert_exporter": "python",
   "pygments_lexer": "ipython3",
   "version": "3.10.10"
  }
 },
 "nbformat": 4,
 "nbformat_minor": 5
}
