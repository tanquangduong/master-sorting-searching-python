{
 "cells": [
  {
   "cell_type": "markdown",
   "id": "11e1d803",
   "metadata": {},
   "source": [
    "# Merge sort"
   ]
  },
  {
   "cell_type": "code",
   "execution_count": 23,
   "id": "9480c085",
   "metadata": {},
   "outputs": [],
   "source": [
    "def MergeSort_test(list):\n",
    "    if len(list)>1:\n",
    "        mid = len(list)//2 #splits list in half\n",
    "        left = list[:mid]\n",
    "        right = list[mid:]\n",
    "        print('left', left)\n",
    "        print('right', right)\n",
    "        print(\"-----------\")\n",
    "        MergeSort_test(left) #repeats until length of each list is 1\n",
    "        print(\"***\")\n",
    "        MergeSort_test(right)"
   ]
  },
  {
   "cell_type": "code",
   "execution_count": 24,
   "id": "25112178",
   "metadata": {},
   "outputs": [
    {
     "name": "stdout",
     "output_type": "stream",
     "text": [
      "left [44, 16, 83, 7]\n",
      "right [67, 21, 34, 45, 10]\n",
      "-----------\n",
      "left [44, 16]\n",
      "right [83, 7]\n",
      "-----------\n",
      "left [44]\n",
      "right [16]\n",
      "-----------\n",
      "***\n",
      "***\n",
      "left [83]\n",
      "right [7]\n",
      "-----------\n",
      "***\n",
      "***\n",
      "left [67, 21]\n",
      "right [34, 45, 10]\n",
      "-----------\n",
      "left [67]\n",
      "right [21]\n",
      "-----------\n",
      "***\n",
      "***\n",
      "left [34]\n",
      "right [45, 10]\n",
      "-----------\n",
      "***\n",
      "left [45]\n",
      "right [10]\n",
      "-----------\n",
      "***\n"
     ]
    }
   ],
   "source": [
    "list = [44,16,83,7,67,21,34,45,10]\n",
    "MergeSort_test(list)"
   ]
  },
  {
   "cell_type": "code",
   "execution_count": 3,
   "id": "fea504af",
   "metadata": {},
   "outputs": [],
   "source": [
    "def MergeSort(list):\n",
    "    if len(list)>1:\n",
    "        mid = len(list)//2 #splits list in half\n",
    "        left = list[:mid]\n",
    "        right = list[mid:]\n",
    "\n",
    "        MergeSort(left) #repeats until length of each list is 1\n",
    "        MergeSort(right)\n",
    "\n",
    "        a = 0\n",
    "        b = 0\n",
    "        c = 0\n",
    "        while a < len(left) and b < len(right):\n",
    "            print(\"inner 1\")\n",
    "            if left[a] < right[b]:\n",
    "                list[c]=left[a]\n",
    "                a = a + 1\n",
    "            else:\n",
    "                list[c]=right[b]\n",
    "                b = b + 1\n",
    "            c = c + 1\n",
    "        while a < len(left):\n",
    "            print(\"inner 2\")\n",
    "            list[c]=left[a]\n",
    "            a = a + 1\n",
    "            c = c + 1\n",
    "\n",
    "        while b < len(right):\n",
    "            print(\"inner 3\")\n",
    "            list[c]=right[b]\n",
    "            b = b + 1\n",
    "            c = c + 1\n",
    "    return list"
   ]
  },
  {
   "cell_type": "code",
   "execution_count": 4,
   "id": "7a84c8aa",
   "metadata": {},
   "outputs": [
    {
     "name": "stdout",
     "output_type": "stream",
     "text": [
      "inner 1\n",
      "inner 2\n",
      "inner 1\n",
      "inner 2\n",
      "inner 1\n",
      "inner 1\n",
      "inner 1\n",
      "inner 3\n",
      "inner 1\n",
      "inner 2\n",
      "inner 1\n",
      "inner 2\n",
      "inner 1\n",
      "inner 1\n",
      "inner 3\n",
      "inner 1\n",
      "inner 1\n",
      "inner 1\n",
      "inner 1\n",
      "inner 2\n",
      "inner 1\n",
      "inner 1\n",
      "inner 1\n",
      "inner 1\n",
      "inner 1\n",
      "inner 1\n",
      "inner 1\n",
      "inner 1\n",
      "inner 2\n"
     ]
    },
    {
     "data": {
      "text/plain": [
       "[7, 10, 16, 21, 34, 44, 45, 67, 83]"
      ]
     },
     "execution_count": 4,
     "metadata": {},
     "output_type": "execute_result"
    }
   ],
   "source": [
    "list = [44,16,83,7,67,21,34,45,10]\n",
    "MergeSort(list)"
   ]
  },
  {
   "cell_type": "code",
   "execution_count": null,
   "id": "b5f18c5e",
   "metadata": {},
   "outputs": [],
   "source": []
  }
 ],
 "metadata": {
  "kernelspec": {
   "display_name": "Python 3 (ipykernel)",
   "language": "python",
   "name": "python3"
  },
  "language_info": {
   "codemirror_mode": {
    "name": "ipython",
    "version": 3
   },
   "file_extension": ".py",
   "mimetype": "text/x-python",
   "name": "python",
   "nbconvert_exporter": "python",
   "pygments_lexer": "ipython3",
   "version": "3.10.10"
  }
 },
 "nbformat": 4,
 "nbformat_minor": 5
}
