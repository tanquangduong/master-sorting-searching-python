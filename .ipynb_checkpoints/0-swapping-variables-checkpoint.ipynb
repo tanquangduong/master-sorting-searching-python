{
 "cells": [
  {
   "cell_type": "markdown",
   "id": "616910e4",
   "metadata": {},
   "source": [
    "# Swapping Variables"
   ]
  },
  {
   "cell_type": "code",
   "execution_count": 1,
   "id": "63eacbbb",
   "metadata": {},
   "outputs": [],
   "source": [
    "var1 = 1\n",
    "var2 = 2\n",
    "var1, var2 = var2, var1"
   ]
  },
  {
   "cell_type": "code",
   "execution_count": 2,
   "id": "1d97393b",
   "metadata": {},
   "outputs": [
    {
     "name": "stdout",
     "output_type": "stream",
     "text": [
      "2 1\n"
     ]
    }
   ],
   "source": [
    "print(var1, var2)"
   ]
  }
 ],
 "metadata": {
  "kernelspec": {
   "display_name": "Python 3 (ipykernel)",
   "language": "python",
   "name": "python3"
  },
  "language_info": {
   "codemirror_mode": {
    "name": "ipython",
    "version": 3
   },
   "file_extension": ".py",
   "mimetype": "text/x-python",
   "name": "python",
   "nbconvert_exporter": "python",
   "pygments_lexer": "ipython3",
   "version": "3.10.10"
  }
 },
 "nbformat": 4,
 "nbformat_minor": 5
}
