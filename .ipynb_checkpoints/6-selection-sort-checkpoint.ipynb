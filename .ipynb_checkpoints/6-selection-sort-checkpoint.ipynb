{
 "cells": [
  {
   "cell_type": "markdown",
   "id": "de3ccaad",
   "metadata": {},
   "source": [
    "# Selection sort"
   ]
  },
  {
   "cell_type": "code",
   "execution_count": 3,
   "id": "68f1f6d2",
   "metadata": {},
   "outputs": [],
   "source": [
    "def SelectionSort(list):\n",
    "    for fill_slot in range(len(list) - 1, 0, -1):\n",
    "        max_index = 0\n",
    "        for location in range(1, fill_slot + 1):\n",
    "            if list[location] > list[max_index]:\n",
    "                max_index = location\n",
    "        list[fill_slot],list[max_index] = list[max_index],list[fill_slot]\n",
    "        print(list)\n",
    "    return list"
   ]
  },
  {
   "cell_type": "code",
   "execution_count": 4,
   "id": "b7ced3fd",
   "metadata": {},
   "outputs": [
    {
     "name": "stdout",
     "output_type": "stream",
     "text": [
      "[44, 15, 25, 19, 34, 70]\n",
      "[34, 15, 25, 19, 44, 70]\n",
      "[19, 15, 25, 34, 44, 70]\n",
      "[19, 15, 25, 34, 44, 70]\n",
      "[15, 19, 25, 34, 44, 70]\n"
     ]
    },
    {
     "data": {
      "text/plain": [
       "[15, 19, 25, 34, 44, 70]"
      ]
     },
     "execution_count": 4,
     "metadata": {},
     "output_type": "execute_result"
    }
   ],
   "source": [
    "list = [70,15,25,19,34,44]\n",
    "SelectionSort(list)"
   ]
  },
  {
   "cell_type": "markdown",
   "id": "dfd54208",
   "metadata": {},
   "source": [
    "# Choosing a sorting algorithm\n",
    "The choice of the right sorting algorithm depends both on the size and the state of the current input data. For small input lists that are sorted, using an advanced algorithm will introduce unnecessary complexities to the code, with a negligible improvement in performance. For example, we do not need to use merge sort for smaller datasets. Bubble sort will be way easier to understand and implement. If the data is partially sorted, we can take advantage of that by using insertion sort. For larger datasets, the merge sort algorithm is the best one to use."
   ]
  },
  {
   "cell_type": "code",
   "execution_count": null,
   "id": "12ccf84c",
   "metadata": {},
   "outputs": [],
   "source": []
  }
 ],
 "metadata": {
  "kernelspec": {
   "display_name": "Python 3 (ipykernel)",
   "language": "python",
   "name": "python3"
  },
  "language_info": {
   "codemirror_mode": {
    "name": "ipython",
    "version": 3
   },
   "file_extension": ".py",
   "mimetype": "text/x-python",
   "name": "python",
   "nbconvert_exporter": "python",
   "pygments_lexer": "ipython3",
   "version": "3.10.10"
  }
 },
 "nbformat": 4,
 "nbformat_minor": 5
}
