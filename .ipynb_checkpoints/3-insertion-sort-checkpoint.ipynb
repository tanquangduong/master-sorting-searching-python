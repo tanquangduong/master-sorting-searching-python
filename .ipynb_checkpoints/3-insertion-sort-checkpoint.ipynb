{
 "cells": [
  {
   "cell_type": "markdown",
   "id": "1c9f7b46",
   "metadata": {},
   "source": [
    "# Insertion Sort Implementation - Big O(n^2)"
   ]
  },
  {
   "cell_type": "code",
   "execution_count": 23,
   "id": "081e6134",
   "metadata": {},
   "outputs": [],
   "source": [
    "def InsertionSort(list):\n",
    "    iter = 0\n",
    "    for i in range(1, len(list)):\n",
    "        j = i-1\n",
    "        next = list[i]\n",
    "        print(\"next\", next)\n",
    "\n",
    "        # Inner loop: Compare the current element with next one\n",
    "        while (list[j] > next) and (j >= 0):\n",
    "            list[j+1] = list[j]\n",
    "            j=j-1\n",
    "            # Log\n",
    "            iter += 1\n",
    "            print(iter, list, \" inner\")\n",
    "            \n",
    "        list[j+1] = next\n",
    "        # Log\n",
    "        iter += 1\n",
    "        print(iter, list, \" -->outer\")\n",
    "    return list"
   ]
  },
  {
   "cell_type": "code",
   "execution_count": 24,
   "id": "38182f42",
   "metadata": {},
   "outputs": [
    {
     "name": "stdout",
     "output_type": "stream",
     "text": [
      "next 1\n",
      "1 [5, 5, 2, 4, 3, 7, 6]  inner\n",
      "2 [1, 5, 2, 4, 3, 7, 6]  -->outer\n",
      "next 2\n",
      "3 [1, 5, 5, 4, 3, 7, 6]  inner\n",
      "4 [1, 2, 5, 4, 3, 7, 6]  -->outer\n",
      "next 4\n",
      "5 [1, 2, 5, 5, 3, 7, 6]  inner\n",
      "6 [1, 2, 4, 5, 3, 7, 6]  -->outer\n",
      "next 3\n",
      "7 [1, 2, 4, 5, 5, 7, 6]  inner\n",
      "8 [1, 2, 4, 4, 5, 7, 6]  inner\n",
      "9 [1, 2, 3, 4, 5, 7, 6]  -->outer\n",
      "next 7\n",
      "10 [1, 2, 3, 4, 5, 7, 6]  -->outer\n",
      "next 6\n",
      "11 [1, 2, 3, 4, 5, 7, 7]  inner\n",
      "12 [1, 2, 3, 4, 5, 6, 7]  -->outer\n"
     ]
    },
    {
     "data": {
      "text/plain": [
       "[1, 2, 3, 4, 5, 6, 7]"
      ]
     },
     "execution_count": 24,
     "metadata": {},
     "output_type": "execute_result"
    }
   ],
   "source": [
    "list = [5,1,2,4,3,7,6]\n",
    "InsertionSort(list)"
   ]
  },
  {
   "cell_type": "code",
   "execution_count": 25,
   "id": "5d72fbf2",
   "metadata": {},
   "outputs": [
    {
     "name": "stdout",
     "output_type": "stream",
     "text": [
      "next 2\n",
      "1 [1, 2, 3, 4, 5, 6, 7]  -->outer\n",
      "next 3\n",
      "2 [1, 2, 3, 4, 5, 6, 7]  -->outer\n",
      "next 4\n",
      "3 [1, 2, 3, 4, 5, 6, 7]  -->outer\n",
      "next 5\n",
      "4 [1, 2, 3, 4, 5, 6, 7]  -->outer\n",
      "next 6\n",
      "5 [1, 2, 3, 4, 5, 6, 7]  -->outer\n",
      "next 7\n",
      "6 [1, 2, 3, 4, 5, 6, 7]  -->outer\n"
     ]
    },
    {
     "data": {
      "text/plain": [
       "[1, 2, 3, 4, 5, 6, 7]"
      ]
     },
     "execution_count": 25,
     "metadata": {},
     "output_type": "execute_result"
    }
   ],
   "source": [
    "ascendingList = [1, 2, 3, 4, 5, 6, 7]\n",
    "InsertionSort(ascendingList)"
   ]
  },
  {
   "cell_type": "code",
   "execution_count": 26,
   "id": "ff4387c9",
   "metadata": {},
   "outputs": [
    {
     "name": "stdout",
     "output_type": "stream",
     "text": [
      "next 6\n",
      "1 [7, 7, 5, 4, 3, 2, 1]  inner\n",
      "2 [6, 7, 5, 4, 3, 2, 1]  -->outer\n",
      "next 5\n",
      "3 [6, 7, 7, 4, 3, 2, 1]  inner\n",
      "4 [6, 6, 7, 4, 3, 2, 1]  inner\n",
      "5 [5, 6, 7, 4, 3, 2, 1]  -->outer\n",
      "next 4\n",
      "6 [5, 6, 7, 7, 3, 2, 1]  inner\n",
      "7 [5, 6, 6, 7, 3, 2, 1]  inner\n",
      "8 [5, 5, 6, 7, 3, 2, 1]  inner\n",
      "9 [4, 5, 6, 7, 3, 2, 1]  -->outer\n",
      "next 3\n",
      "10 [4, 5, 6, 7, 7, 2, 1]  inner\n",
      "11 [4, 5, 6, 6, 7, 2, 1]  inner\n",
      "12 [4, 5, 5, 6, 7, 2, 1]  inner\n",
      "13 [4, 4, 5, 6, 7, 2, 1]  inner\n",
      "14 [3, 4, 5, 6, 7, 2, 1]  -->outer\n",
      "next 2\n",
      "15 [3, 4, 5, 6, 7, 7, 1]  inner\n",
      "16 [3, 4, 5, 6, 6, 7, 1]  inner\n",
      "17 [3, 4, 5, 5, 6, 7, 1]  inner\n",
      "18 [3, 4, 4, 5, 6, 7, 1]  inner\n",
      "19 [3, 3, 4, 5, 6, 7, 1]  inner\n",
      "20 [2, 3, 4, 5, 6, 7, 1]  -->outer\n",
      "next 1\n",
      "21 [2, 3, 4, 5, 6, 7, 7]  inner\n",
      "22 [2, 3, 4, 5, 6, 6, 7]  inner\n",
      "23 [2, 3, 4, 5, 5, 6, 7]  inner\n",
      "24 [2, 3, 4, 4, 5, 6, 7]  inner\n",
      "25 [2, 3, 3, 4, 5, 6, 7]  inner\n",
      "26 [2, 2, 3, 4, 5, 6, 7]  inner\n",
      "27 [1, 2, 3, 4, 5, 6, 7]  -->outer\n"
     ]
    },
    {
     "data": {
      "text/plain": [
       "[1, 2, 3, 4, 5, 6, 7]"
      ]
     },
     "execution_count": 26,
     "metadata": {},
     "output_type": "execute_result"
    }
   ],
   "source": [
    "descendingList = [7,6,5,4,3,2,1]\n",
    "InsertionSort(descendingList)"
   ]
  },
  {
   "cell_type": "code",
   "execution_count": null,
   "id": "22238f73",
   "metadata": {},
   "outputs": [],
   "source": []
  }
 ],
 "metadata": {
  "kernelspec": {
   "display_name": "Python 3 (ipykernel)",
   "language": "python",
   "name": "python3"
  },
  "language_info": {
   "codemirror_mode": {
    "name": "ipython",
    "version": 3
   },
   "file_extension": ".py",
   "mimetype": "text/x-python",
   "name": "python",
   "nbconvert_exporter": "python",
   "pygments_lexer": "ipython3",
   "version": "3.10.10"
  }
 },
 "nbformat": 4,
 "nbformat_minor": 5
}
