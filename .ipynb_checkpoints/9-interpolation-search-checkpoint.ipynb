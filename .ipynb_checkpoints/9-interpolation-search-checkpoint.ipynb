{
 "cells": [
  {
   "cell_type": "markdown",
   "id": "5fb9d3fb",
   "metadata": {},
   "source": [
    "# Interpolation search\n",
    "- The worst case performance: O(N)\n",
    "- The best case performance: O(log(log(N)))"
   ]
  },
  {
   "cell_type": "code",
   "execution_count": 4,
   "id": "1d9914c1",
   "metadata": {},
   "outputs": [],
   "source": [
    "def BubbleSort(list):\n",
    "    # Excahnge the elements to arrange in order\n",
    "    lastElementIndex = len(list)-1\n",
    "#     iter = 0\n",
    "    for passNo in range(lastElementIndex,0,-1):\n",
    "#         print(\"PassNo:\", passNo)\n",
    "        for idx in range(passNo):\n",
    "            if list[idx]>list[idx+1]:\n",
    "                list[idx],list[idx+1]=list[idx+1],list[idx]\n",
    "#             iter += 1\n",
    "#             print(iter, list)\n",
    "    return list"
   ]
  },
  {
   "cell_type": "code",
   "execution_count": 5,
   "id": "61b2f5ba",
   "metadata": {},
   "outputs": [],
   "source": [
    "def IntPolsearch(list, item):\n",
    "    first = 0\n",
    "    last = (len(list) - 1)\n",
    "    found = False\n",
    "    while first <= last and item >= list[first] and item <= list[last]:\n",
    "\n",
    "        # Find the mid point\n",
    "        mid = first +int(((float(last - first)/( list[last] - list[first])) * ( item - list[first])))\n",
    "\n",
    "        # Compare the value at mid point with search value \n",
    "        if list[mid] == item:\n",
    "            found = True\n",
    "            return found\n",
    "\n",
    "        if list[mid] < item:\n",
    "            first = mid + 1\n",
    "    return found"
   ]
  },
  {
   "cell_type": "code",
   "execution_count": 6,
   "id": "3092e92d",
   "metadata": {},
   "outputs": [
    {
     "name": "stdout",
     "output_type": "stream",
     "text": [
      "Initial list:  [11, 35, 14, 19, 82, 65, 99]\n",
      "Sorted list :  [11, 14, 19, 35, 65, 82, 99]\n",
      "True\n",
      "False\n"
     ]
    }
   ],
   "source": [
    "myList = [11, 35, 14, 19, 82, 65, 99]\n",
    "print(\"Initial list: \", myList)\n",
    "BubbleSort(myList)\n",
    "print(\"Sorted list : \",myList)\n",
    "print(IntPolsearch(myList, 35))\n",
    "print(IntPolsearch(myList, 90))"
   ]
  },
  {
   "cell_type": "code",
   "execution_count": null,
   "id": "807d0021",
   "metadata": {},
   "outputs": [],
   "source": []
  }
 ],
 "metadata": {
  "kernelspec": {
   "display_name": "Python 3 (ipykernel)",
   "language": "python",
   "name": "python3"
  },
  "language_info": {
   "codemirror_mode": {
    "name": "ipython",
    "version": 3
   },
   "file_extension": ".py",
   "mimetype": "text/x-python",
   "name": "python",
   "nbconvert_exporter": "python",
   "pygments_lexer": "ipython3",
   "version": "3.10.10"
  }
 },
 "nbformat": 4,
 "nbformat_minor": 5
}
