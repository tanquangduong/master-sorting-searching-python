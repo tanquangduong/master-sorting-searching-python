{
 "cells": [
  {
   "cell_type": "markdown",
   "id": "11e1d803",
   "metadata": {},
   "source": [
    "# Merge sort"
   ]
  },
  {
   "cell_type": "code",
   "execution_count": 1,
   "id": "9480c085",
   "metadata": {},
   "outputs": [],
   "source": [
    "def MergeSort_test(list):\n",
    "    if len(list)>1:\n",
    "        mid = len(list)//2 #splits list in half\n",
    "        left = list[:mid]\n",
    "        right = list[mid:]\n",
    "        print('left', left)\n",
    "        print('right', right)\n",
    "        print(\"-----------\")\n",
    "        MergeSort_test(left) #repeats until length of each list is 1\n",
    "        print(\"***\")\n",
    "        print('right-2', right)\n",
    "        MergeSort_test(right)"
   ]
  },
  {
   "cell_type": "code",
   "execution_count": 2,
   "id": "25112178",
   "metadata": {},
   "outputs": [
    {
     "name": "stdout",
     "output_type": "stream",
     "text": [
      "left [44, 16, 83, 7]\n",
      "right [67, 21, 34, 45, 10]\n",
      "-----------\n",
      "left [44, 16]\n",
      "right [83, 7]\n",
      "-----------\n",
      "left [44]\n",
      "right [16]\n",
      "-----------\n",
      "***\n",
      "right-2 [16]\n",
      "***\n",
      "right-2 [83, 7]\n",
      "left [83]\n",
      "right [7]\n",
      "-----------\n",
      "***\n",
      "right-2 [7]\n",
      "***\n",
      "right-2 [67, 21, 34, 45, 10]\n",
      "left [67, 21]\n",
      "right [34, 45, 10]\n",
      "-----------\n",
      "left [67]\n",
      "right [21]\n",
      "-----------\n",
      "***\n",
      "right-2 [21]\n",
      "***\n",
      "right-2 [34, 45, 10]\n",
      "left [34]\n",
      "right [45, 10]\n",
      "-----------\n",
      "***\n",
      "right-2 [45, 10]\n",
      "left [45]\n",
      "right [10]\n",
      "-----------\n",
      "***\n",
      "right-2 [10]\n"
     ]
    }
   ],
   "source": [
    "list = [44,16,83,7,67,21,34,45,10]\n",
    "MergeSort_test(list)"
   ]
  },
  {
   "cell_type": "code",
   "execution_count": 3,
   "id": "fea504af",
   "metadata": {},
   "outputs": [],
   "source": [
    "def MergeSort(list):\n",
    "    if len(list)>1:\n",
    "        mid = len(list)//2 #splits list in half\n",
    "        left = list[:mid]\n",
    "        right = list[mid:]\n",
    "\n",
    "        MergeSort(left) #repeats until length of each list is 1\n",
    "        MergeSort(right)\n",
    "\n",
    "        a = 0\n",
    "        b = 0\n",
    "        c = 0\n",
    "        while a < len(left) and b < len(right):\n",
    "            \n",
    "            if left[a] < right[b]:\n",
    "                list[c]=left[a]\n",
    "                a = a + 1\n",
    "                print(\"inner 1a\", list)\n",
    "            else:\n",
    "                list[c]=right[b]\n",
    "                b = b + 1\n",
    "                print(\"inner 1b\", list)\n",
    "            c = c + 1\n",
    "        while a < len(left):\n",
    "            list[c]=left[a]\n",
    "            a = a + 1\n",
    "            c = c + 1\n",
    "            print(\"inner 2\", list)\n",
    "\n",
    "        while b < len(right):\n",
    "            print(\"inner 3\")\n",
    "            list[c]=right[b]\n",
    "            b = b + 1\n",
    "            c = c + 1\n",
    "            print(\"inner 3\", list)\n",
    "    return list"
   ]
  },
  {
   "cell_type": "code",
   "execution_count": 4,
   "id": "7a84c8aa",
   "metadata": {},
   "outputs": [
    {
     "name": "stdout",
     "output_type": "stream",
     "text": [
      "inner 1b [16, 16]\n",
      "inner 2 [16, 44]\n",
      "inner 1b [7, 7]\n",
      "inner 2 [7, 83]\n",
      "inner 1b [7, 16, 83, 7]\n",
      "inner 1a [7, 16, 83, 7]\n",
      "inner 1a [7, 16, 44, 7]\n",
      "inner 3\n",
      "inner 3 [7, 16, 44, 83]\n",
      "inner 1b [21, 21]\n",
      "inner 2 [21, 67]\n",
      "inner 1b [10, 10]\n",
      "inner 2 [10, 45]\n",
      "inner 1b [10, 45, 10]\n",
      "inner 1a [10, 34, 10]\n",
      "inner 3\n",
      "inner 3 [10, 34, 45]\n",
      "inner 1b [10, 21, 34, 45, 10]\n",
      "inner 1a [10, 21, 34, 45, 10]\n",
      "inner 1b [10, 21, 34, 45, 10]\n",
      "inner 1b [10, 21, 34, 45, 10]\n",
      "inner 2 [10, 21, 34, 45, 67]\n",
      "inner 1a [7, 16, 83, 7, 67, 21, 34, 45, 10]\n",
      "inner 1b [7, 10, 83, 7, 67, 21, 34, 45, 10]\n",
      "inner 1a [7, 10, 16, 7, 67, 21, 34, 45, 10]\n",
      "inner 1b [7, 10, 16, 21, 67, 21, 34, 45, 10]\n",
      "inner 1b [7, 10, 16, 21, 34, 21, 34, 45, 10]\n",
      "inner 1a [7, 10, 16, 21, 34, 44, 34, 45, 10]\n",
      "inner 1b [7, 10, 16, 21, 34, 44, 45, 45, 10]\n",
      "inner 1b [7, 10, 16, 21, 34, 44, 45, 67, 10]\n",
      "inner 2 [7, 10, 16, 21, 34, 44, 45, 67, 83]\n"
     ]
    },
    {
     "data": {
      "text/plain": [
       "[7, 10, 16, 21, 34, 44, 45, 67, 83]"
      ]
     },
     "execution_count": 4,
     "metadata": {},
     "output_type": "execute_result"
    }
   ],
   "source": [
    "list = [44,16,83,7,67,21,34,45,10]\n",
    "MergeSort(list)"
   ]
  },
  {
   "cell_type": "code",
   "execution_count": null,
   "id": "b5f18c5e",
   "metadata": {},
   "outputs": [],
   "source": []
  }
 ],
 "metadata": {
  "kernelspec": {
   "display_name": "Python 3 (ipykernel)",
   "language": "python",
   "name": "python3"
  },
  "language_info": {
   "codemirror_mode": {
    "name": "ipython",
    "version": 3
   },
   "file_extension": ".py",
   "mimetype": "text/x-python",
   "name": "python",
   "nbconvert_exporter": "python",
   "pygments_lexer": "ipython3",
   "version": "3.10.10"
  }
 },
 "nbformat": 4,
 "nbformat_minor": 5
}
