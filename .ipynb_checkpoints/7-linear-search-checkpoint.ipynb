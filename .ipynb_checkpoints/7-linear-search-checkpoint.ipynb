{
 "cells": [
  {
   "cell_type": "markdown",
   "id": "4d8666ad",
   "metadata": {},
   "source": [
    "# Linear search\n",
    "## The worst case: Big O(N)"
   ]
  },
  {
   "cell_type": "code",
   "execution_count": 1,
   "id": "e4d02857",
   "metadata": {},
   "outputs": [],
   "source": [
    "def LinearSearch(list, item):\n",
    "    index = 0\n",
    "    found = False\n",
    "\n",
    "    # Match the value with each data element       \n",
    "    while index < len(list) and found is False:\n",
    "        if list[index] == item:\n",
    "            found = True\n",
    "        else:\n",
    "            index = index + 1\n",
    "    return found"
   ]
  },
  {
   "cell_type": "markdown",
   "id": "ae8b816b",
   "metadata": {},
   "source": [
    "# Test linear search"
   ]
  },
  {
   "cell_type": "code",
   "execution_count": 3,
   "id": "700b284d",
   "metadata": {},
   "outputs": [
    {
     "name": "stdout",
     "output_type": "stream",
     "text": [
      "True\n",
      "False\n"
     ]
    }
   ],
   "source": [
    "list = [11, 35, 14, 19, 82, 65, 99]\n",
    "print(LinearSearch(list, 82))\n",
    "print(LinearSearch(list, 60))"
   ]
  },
  {
   "cell_type": "code",
   "execution_count": null,
   "id": "95a0d2e8",
   "metadata": {},
   "outputs": [],
   "source": []
  }
 ],
 "metadata": {
  "kernelspec": {
   "display_name": "Python 3 (ipykernel)",
   "language": "python",
   "name": "python3"
  },
  "language_info": {
   "codemirror_mode": {
    "name": "ipython",
    "version": 3
   },
   "file_extension": ".py",
   "mimetype": "text/x-python",
   "name": "python",
   "nbconvert_exporter": "python",
   "pygments_lexer": "ipython3",
   "version": "3.10.10"
  }
 },
 "nbformat": 4,
 "nbformat_minor": 5
}
