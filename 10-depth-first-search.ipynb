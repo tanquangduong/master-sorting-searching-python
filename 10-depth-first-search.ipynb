{
 "cells": [
  {
   "cell_type": "markdown",
   "id": "a15e7585",
   "metadata": {},
   "source": [
    "# Depth First Search"
   ]
  },
  {
   "cell_type": "code",
   "execution_count": 33,
   "id": "f9d7b69d",
   "metadata": {},
   "outputs": [],
   "source": [
    "def dfs(aGraph, root): \n",
    "    stack = [root] \n",
    "    parents = {root: root} \n",
    "    path = list()\n",
    "    while stack: \n",
    "        print ('Stack is: %s' % stack) \n",
    "        vertex = stack.pop(-1) \n",
    "        print ('Working on %s' % vertex) \n",
    "        for element in aGraph[vertex]: \n",
    "            if element not in parents: \n",
    "                parents[element] = vertex \n",
    "                stack.append(element)\n",
    "                print ('Now, adding %s to the stack' % element) \n",
    "#                 path.append(parents[vertex]+'>'+vertex) \n",
    "                path.append(parents[vertex]+'>'+vertex) \n",
    "    return path[1:] "
   ]
  },
  {
   "cell_type": "code",
   "execution_count": 34,
   "id": "08ffd213",
   "metadata": {},
   "outputs": [],
   "source": [
    "g = dict() \n",
    "g['Amine'] = ['Wassim', 'Nick', 'Mike','Elena'] \n",
    "g['Wassim'] = ['Amine', 'Imran'] \n",
    "g['Nick'] = ['Amine'] \n",
    "g['Mike'] = ['Amine', 'Mary'] \n",
    "g['Elena'] = ['Amine'] \n",
    "g['Imran'] = ['Wassim', 'Steven'] \n",
    "g['Mary'] = ['Mike']\n",
    "g['Steven'] = ['Imran']"
   ]
  },
  {
   "cell_type": "code",
   "execution_count": 35,
   "id": "6241b09a",
   "metadata": {},
   "outputs": [
    {
     "data": {
      "text/plain": [
       "{'Amine': ['Wassim', 'Nick', 'Mike', 'Elena'],\n",
       " 'Wassim': ['Amine', 'Imran'],\n",
       " 'Nick': ['Amine'],\n",
       " 'Mike': ['Amine', 'Mary'],\n",
       " 'Elena': ['Amine'],\n",
       " 'Imran': ['Wassim', 'Steven'],\n",
       " 'Mary': ['Mike'],\n",
       " 'Steven': ['Imran']}"
      ]
     },
     "execution_count": 35,
     "metadata": {},
     "output_type": "execute_result"
    }
   ],
   "source": [
    "g"
   ]
  },
  {
   "cell_type": "code",
   "execution_count": 36,
   "id": "a4768a57",
   "metadata": {},
   "outputs": [
    {
     "name": "stdout",
     "output_type": "stream",
     "text": [
      "Stack is: ['Amine']\n",
      "Working on Amine\n",
      "Now, adding Wassim to the stack\n",
      "Now, adding Nick to the stack\n",
      "Now, adding Mike to the stack\n",
      "Now, adding Elena to the stack\n",
      "Stack is: ['Wassim', 'Nick', 'Mike', 'Elena']\n",
      "Working on Elena\n",
      "Stack is: ['Wassim', 'Nick', 'Mike']\n",
      "Working on Mike\n",
      "Now, adding Mary to the stack\n",
      "Stack is: ['Wassim', 'Nick', 'Mary']\n",
      "Working on Mary\n",
      "Stack is: ['Wassim', 'Nick']\n",
      "Working on Nick\n",
      "Stack is: ['Wassim']\n",
      "Working on Wassim\n",
      "Now, adding Imran to the stack\n",
      "Stack is: ['Imran']\n",
      "Working on Imran\n",
      "Now, adding Steven to the stack\n",
      "Stack is: ['Steven']\n",
      "Working on Steven\n"
     ]
    },
    {
     "data": {
      "text/plain": [
       "['Amine>Amine',\n",
       " 'Amine>Amine',\n",
       " 'Amine>Amine',\n",
       " 'Amine>Mike',\n",
       " 'Amine>Wassim',\n",
       " 'Wassim>Imran']"
      ]
     },
     "execution_count": 36,
     "metadata": {},
     "output_type": "execute_result"
    }
   ],
   "source": [
    "dfs(g,\"Amine\")"
   ]
  },
  {
   "cell_type": "code",
   "execution_count": null,
   "id": "66b0ecfe",
   "metadata": {},
   "outputs": [],
   "source": []
  },
  {
   "cell_type": "code",
   "execution_count": null,
   "id": "1282f640",
   "metadata": {},
   "outputs": [],
   "source": []
  }
 ],
 "metadata": {
  "kernelspec": {
   "display_name": "Python 3 (ipykernel)",
   "language": "python",
   "name": "python3"
  },
  "language_info": {
   "codemirror_mode": {
    "name": "ipython",
    "version": 3
   },
   "file_extension": ".py",
   "mimetype": "text/x-python",
   "name": "python",
   "nbconvert_exporter": "python",
   "pygments_lexer": "ipython3",
   "version": "3.10.10"
  }
 },
 "nbformat": 4,
 "nbformat_minor": 5
}
