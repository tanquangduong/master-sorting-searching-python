{
 "cells": [
  {
   "cell_type": "markdown",
   "id": "c217f642",
   "metadata": {},
   "source": [
    "# Shell sort\n",
    "Shell sort is not for big data. It is used for medium-sized datasets. Roughly speaking, it has a reasonably good performance on a list with up to 6,000 elements. If the data is partially in the correct order, the performance will be better. In a best-case scenario, if a list is already sorted, it will only need one pass through N elements to validate the order, producing a best-case performance of O(N)."
   ]
  },
  {
   "cell_type": "code",
   "execution_count": 11,
   "id": "86ea456b",
   "metadata": {},
   "outputs": [],
   "source": [
    "def ShellSort(list):\n",
    "    distance = len(list) // 2\n",
    "    while distance > 0:\n",
    "        for i in range(distance, len(list)):\n",
    "            temp = list[i]\n",
    "            j = i\n",
    "            # Sort the sub list for this distance\n",
    "            while j >= distance and list[j - distance] > temp:\n",
    "                list[j] = list[j - distance]\n",
    "                j = j-distance\n",
    "                print(\"inner\", list)\n",
    "            list[j] = temp\n",
    "            print(\"outer\", list)\n",
    "        # Reduce the distance for the next element\n",
    "        distance = distance//2\n",
    "    return list"
   ]
  },
  {
   "cell_type": "code",
   "execution_count": 12,
   "id": "7246e341",
   "metadata": {},
   "outputs": [
    {
     "name": "stdout",
     "output_type": "stream",
     "text": [
      "outer [19, 2, 31, 45, 30, 11, 121, 27]\n",
      "outer [19, 2, 31, 45, 30, 11, 121, 27]\n",
      "outer [19, 2, 31, 45, 30, 11, 121, 27]\n",
      "inner [19, 2, 31, 45, 30, 11, 121, 45]\n",
      "outer [19, 2, 31, 27, 30, 11, 121, 45]\n",
      "outer [19, 2, 31, 27, 30, 11, 121, 45]\n",
      "outer [19, 2, 31, 27, 30, 11, 121, 45]\n",
      "inner [19, 2, 31, 27, 31, 11, 121, 45]\n",
      "outer [19, 2, 30, 27, 31, 11, 121, 45]\n",
      "inner [19, 2, 30, 27, 31, 27, 121, 45]\n",
      "outer [19, 2, 30, 11, 31, 27, 121, 45]\n",
      "outer [19, 2, 30, 11, 31, 27, 121, 45]\n",
      "outer [19, 2, 30, 11, 31, 27, 121, 45]\n",
      "inner [19, 19, 30, 11, 31, 27, 121, 45]\n",
      "outer [2, 19, 30, 11, 31, 27, 121, 45]\n",
      "outer [2, 19, 30, 11, 31, 27, 121, 45]\n",
      "inner [2, 19, 30, 30, 31, 27, 121, 45]\n",
      "inner [2, 19, 19, 30, 31, 27, 121, 45]\n",
      "outer [2, 11, 19, 30, 31, 27, 121, 45]\n",
      "outer [2, 11, 19, 30, 31, 27, 121, 45]\n",
      "inner [2, 11, 19, 30, 31, 31, 121, 45]\n",
      "inner [2, 11, 19, 30, 30, 31, 121, 45]\n",
      "outer [2, 11, 19, 27, 30, 31, 121, 45]\n",
      "outer [2, 11, 19, 27, 30, 31, 121, 45]\n",
      "inner [2, 11, 19, 27, 30, 31, 121, 121]\n",
      "outer [2, 11, 19, 27, 30, 31, 45, 121]\n",
      "[2, 11, 19, 27, 30, 31, 45, 121]\n"
     ]
    }
   ],
   "source": [
    "list = [19,2,31,45,30,11,121,27]\n",
    "ShellSort(list)\n",
    "print(list)"
   ]
  },
  {
   "cell_type": "code",
   "execution_count": null,
   "id": "29c88fba",
   "metadata": {},
   "outputs": [],
   "source": []
  }
 ],
 "metadata": {
  "kernelspec": {
   "display_name": "Python 3 (ipykernel)",
   "language": "python",
   "name": "python3"
  },
  "language_info": {
   "codemirror_mode": {
    "name": "ipython",
    "version": 3
   },
   "file_extension": ".py",
   "mimetype": "text/x-python",
   "name": "python",
   "nbconvert_exporter": "python",
   "pygments_lexer": "ipython3",
   "version": "3.10.10"
  }
 },
 "nbformat": 4,
 "nbformat_minor": 5
}
