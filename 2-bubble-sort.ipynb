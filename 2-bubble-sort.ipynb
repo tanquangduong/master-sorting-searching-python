{
 "cells": [
  {
   "cell_type": "markdown",
   "id": "188513ff",
   "metadata": {},
   "source": [
    "## Bubble Sort Algorithm - Big O(n^2)"
   ]
  },
  {
   "cell_type": "code",
   "execution_count": 39,
   "id": "76469a36",
   "metadata": {},
   "outputs": [],
   "source": [
    "def BubbleSort(list):\n",
    "    # Excahnge the elements to arrange in order\n",
    "    lastElementIndex = len(list)-1\n",
    "    iter = 0\n",
    "    for passNo in range(lastElementIndex,0,-1):\n",
    "        print(\"PassNo:\", passNo)\n",
    "        for idx in range(passNo):\n",
    "            if list[idx]>list[idx+1]:\n",
    "                list[idx],list[idx+1]=list[idx+1],list[idx]\n",
    "            iter += 1\n",
    "            print(iter, list)\n",
    "    return list"
   ]
  },
  {
   "cell_type": "code",
   "execution_count": 40,
   "id": "138a78b3",
   "metadata": {},
   "outputs": [
    {
     "name": "stdout",
     "output_type": "stream",
     "text": [
      "PassNo: 6\n",
      "1 [1, 5, 2, 4, 3, 7, 6]\n",
      "2 [1, 2, 5, 4, 3, 7, 6]\n",
      "3 [1, 2, 4, 5, 3, 7, 6]\n",
      "4 [1, 2, 4, 3, 5, 7, 6]\n",
      "5 [1, 2, 4, 3, 5, 7, 6]\n",
      "6 [1, 2, 4, 3, 5, 6, 7]\n",
      "PassNo: 5\n",
      "7 [1, 2, 4, 3, 5, 6, 7]\n",
      "8 [1, 2, 4, 3, 5, 6, 7]\n",
      "9 [1, 2, 3, 4, 5, 6, 7]\n",
      "10 [1, 2, 3, 4, 5, 6, 7]\n",
      "11 [1, 2, 3, 4, 5, 6, 7]\n",
      "PassNo: 4\n",
      "12 [1, 2, 3, 4, 5, 6, 7]\n",
      "13 [1, 2, 3, 4, 5, 6, 7]\n",
      "14 [1, 2, 3, 4, 5, 6, 7]\n",
      "15 [1, 2, 3, 4, 5, 6, 7]\n",
      "PassNo: 3\n",
      "16 [1, 2, 3, 4, 5, 6, 7]\n",
      "17 [1, 2, 3, 4, 5, 6, 7]\n",
      "18 [1, 2, 3, 4, 5, 6, 7]\n",
      "PassNo: 2\n",
      "19 [1, 2, 3, 4, 5, 6, 7]\n",
      "20 [1, 2, 3, 4, 5, 6, 7]\n",
      "PassNo: 1\n",
      "21 [1, 2, 3, 4, 5, 6, 7]\n"
     ]
    },
    {
     "data": {
      "text/plain": [
       "[1, 2, 3, 4, 5, 6, 7]"
      ]
     },
     "execution_count": 40,
     "metadata": {},
     "output_type": "execute_result"
    }
   ],
   "source": [
    "myList = [5,1,2,4,3,7,6]\n",
    "BubbleSort(myList)"
   ]
  },
  {
   "cell_type": "code",
   "execution_count": 41,
   "id": "a1d935a1",
   "metadata": {},
   "outputs": [
    {
     "name": "stdout",
     "output_type": "stream",
     "text": [
      "PassNo: 6\n",
      "1 [1, 2, 3, 4, 5, 6, 7]\n",
      "2 [1, 2, 3, 4, 5, 6, 7]\n",
      "3 [1, 2, 3, 4, 5, 6, 7]\n",
      "4 [1, 2, 3, 4, 5, 6, 7]\n",
      "5 [1, 2, 3, 4, 5, 6, 7]\n",
      "6 [1, 2, 3, 4, 5, 6, 7]\n",
      "PassNo: 5\n",
      "7 [1, 2, 3, 4, 5, 6, 7]\n",
      "8 [1, 2, 3, 4, 5, 6, 7]\n",
      "9 [1, 2, 3, 4, 5, 6, 7]\n",
      "10 [1, 2, 3, 4, 5, 6, 7]\n",
      "11 [1, 2, 3, 4, 5, 6, 7]\n",
      "PassNo: 4\n",
      "12 [1, 2, 3, 4, 5, 6, 7]\n",
      "13 [1, 2, 3, 4, 5, 6, 7]\n",
      "14 [1, 2, 3, 4, 5, 6, 7]\n",
      "15 [1, 2, 3, 4, 5, 6, 7]\n",
      "PassNo: 3\n",
      "16 [1, 2, 3, 4, 5, 6, 7]\n",
      "17 [1, 2, 3, 4, 5, 6, 7]\n",
      "18 [1, 2, 3, 4, 5, 6, 7]\n",
      "PassNo: 2\n",
      "19 [1, 2, 3, 4, 5, 6, 7]\n",
      "20 [1, 2, 3, 4, 5, 6, 7]\n",
      "PassNo: 1\n",
      "21 [1, 2, 3, 4, 5, 6, 7]\n"
     ]
    },
    {
     "data": {
      "text/plain": [
       "[1, 2, 3, 4, 5, 6, 7]"
      ]
     },
     "execution_count": 41,
     "metadata": {},
     "output_type": "execute_result"
    }
   ],
   "source": [
    "accendingList = [1, 2, 3, 4, 5, 6, 7]\n",
    "BubbleSort(accendingList)"
   ]
  },
  {
   "cell_type": "code",
   "execution_count": 42,
   "id": "25af1ddd",
   "metadata": {},
   "outputs": [
    {
     "name": "stdout",
     "output_type": "stream",
     "text": [
      "PassNo: 6\n",
      "1 [6, 7, 5, 4, 3, 2, 1]\n",
      "2 [6, 5, 7, 4, 3, 2, 1]\n",
      "3 [6, 5, 4, 7, 3, 2, 1]\n",
      "4 [6, 5, 4, 3, 7, 2, 1]\n",
      "5 [6, 5, 4, 3, 2, 7, 1]\n",
      "6 [6, 5, 4, 3, 2, 1, 7]\n",
      "PassNo: 5\n",
      "7 [5, 6, 4, 3, 2, 1, 7]\n",
      "8 [5, 4, 6, 3, 2, 1, 7]\n",
      "9 [5, 4, 3, 6, 2, 1, 7]\n",
      "10 [5, 4, 3, 2, 6, 1, 7]\n",
      "11 [5, 4, 3, 2, 1, 6, 7]\n",
      "PassNo: 4\n",
      "12 [4, 5, 3, 2, 1, 6, 7]\n",
      "13 [4, 3, 5, 2, 1, 6, 7]\n",
      "14 [4, 3, 2, 5, 1, 6, 7]\n",
      "15 [4, 3, 2, 1, 5, 6, 7]\n",
      "PassNo: 3\n",
      "16 [3, 4, 2, 1, 5, 6, 7]\n",
      "17 [3, 2, 4, 1, 5, 6, 7]\n",
      "18 [3, 2, 1, 4, 5, 6, 7]\n",
      "PassNo: 2\n",
      "19 [2, 3, 1, 4, 5, 6, 7]\n",
      "20 [2, 1, 3, 4, 5, 6, 7]\n",
      "PassNo: 1\n",
      "21 [1, 2, 3, 4, 5, 6, 7]\n"
     ]
    },
    {
     "data": {
      "text/plain": [
       "[1, 2, 3, 4, 5, 6, 7]"
      ]
     },
     "execution_count": 42,
     "metadata": {},
     "output_type": "execute_result"
    }
   ],
   "source": [
    "decendingList = [7,6,5,4,3,2,1]\n",
    "BubbleSort(decendingList)"
   ]
  },
  {
   "cell_type": "code",
   "execution_count": null,
   "id": "21f2e65e",
   "metadata": {},
   "outputs": [],
   "source": []
  }
 ],
 "metadata": {
  "kernelspec": {
   "display_name": "Python 3 (ipykernel)",
   "language": "python",
   "name": "python3"
  },
  "language_info": {
   "codemirror_mode": {
    "name": "ipython",
    "version": 3
   },
   "file_extension": ".py",
   "mimetype": "text/x-python",
   "name": "python",
   "nbconvert_exporter": "python",
   "pygments_lexer": "ipython3",
   "version": "3.10.10"
  }
 },
 "nbformat": 4,
 "nbformat_minor": 5
}
